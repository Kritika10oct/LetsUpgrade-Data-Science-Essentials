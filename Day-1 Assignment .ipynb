{
  "nbformat": 4,
  "nbformat_minor": 0,
  "metadata": {
    "colab": {
      "name": "Untitled13.ipynb",
      "provenance": [],
      "authorship_tag": "ABX9TyPtQOSvkZ07T0UgFQiWy+M3",
      "include_colab_link": true
    },
    "kernelspec": {
      "name": "python3",
      "display_name": "Python 3"
    }
  },
  "cells": [
    {
      "cell_type": "markdown",
      "metadata": {
        "id": "view-in-github",
        "colab_type": "text"
      },
      "source": [
        "<a href=\"https://colab.research.google.com/github/Kritika10oct/LetsUpgrade-Data-Science-Essentials/blob/main/Day-1%20Assignment%20.ipynb\" target=\"_parent\"><img src=\"https://colab.research.google.com/assets/colab-badge.svg\" alt=\"Open In Colab\"/></a>"
      ]
    },
    {
      "cell_type": "markdown",
      "metadata": {
        "id": "Ulw_0yOEnqtq"
      },
      "source": [
        " *Name = Kritika Kumari\n",
        " *Email = kritikakumari7409@gmail.com\n",
        "\n",
        "Questions 1:\n",
        "\n",
        "Given the following jumbled word, OBANWRI guess the correct English word.\n",
        "\n",
        "A. RANIBOW\n",
        "\n",
        "B. RAINBOW\n",
        "\n",
        "C. BOWRANI\n",
        "\n",
        "D. ROBWANI\n",
        "\n",
        "Answer:- Option(B) - RAINBOW\n",
        "\n",
        "Questions 2:\n",
        "\n",
        "Write a program which prints “LETS UPGRADE”. (Please note that you have to print in ALL CAPS as given)."
      ]
    },
    {
      "cell_type": "code",
      "metadata": {
        "id": "-2l1Y23onZVK",
        "outputId": "8a3bde25-51be-4670-afce-cb3052658c93",
        "colab": {
          "base_uri": "https://localhost:8080/"
        }
      },
      "source": [
        "a = \"letsupgrade\"\n",
        "print(a.upper())"
      ],
      "execution_count": 6,
      "outputs": [
        {
          "output_type": "stream",
          "text": [
            "LETSUPGRADE\n"
          ],
          "name": "stdout"
        }
      ]
    },
    {
      "cell_type": "markdown",
      "metadata": {
        "id": "PssNjq-_pR4q"
      },
      "source": [
        "\n",
        "Questions 3:\n",
        "\n",
        "Write a program that takes cost price and selling price as input and displays whether the transaction is a Profit or a Loss or Neither.\n",
        "\n",
        "INPUT FORMAT\n",
        "\n",
        "The first line contains the cost price.\n",
        "\n",
        "The second line contains the selling price.\n",
        "\n",
        "OUTPUT FORMAT\n",
        "\n",
        "Print \"Profit\" if the transaction is a profit or \"Loss\" if it is a loss.\n",
        "\n",
        "If it is neither profit nor loss, print \"Neither\". (You must not have quotes in your output)"
      ]
    },
    {
      "cell_type": "code",
      "metadata": {
        "id": "eLbQ2fEXpTyx",
        "outputId": "07cb7b9c-efa1-457a-9b17-59a97f9de509",
        "colab": {
          "base_uri": "https://localhost:8080/"
        }
      },
      "source": [
        "cost_price  = int(input())\n",
        "selling_price = int(input())\n",
        "if cost_price < selling_price:\n",
        "  print(\"Profit\")\n",
        "elif cost_price > selling_price:\n",
        "  print(\"Loss\")\n",
        "else:\n",
        "  print(\"Neither\")"
      ],
      "execution_count": 1,
      "outputs": [
        {
          "output_type": "stream",
          "text": [
            "50\n",
            "120\n",
            "Profit\n"
          ],
          "name": "stdout"
        }
      ]
    },
    {
      "cell_type": "code",
      "metadata": {
        "id": "9gaylnbSpbgM",
        "outputId": "b26f621f-d49c-48c3-f5f3-238357c1e9fd",
        "colab": {
          "base_uri": "https://localhost:8080/"
        }
      },
      "source": [
        "cost_price  = int(input())\n",
        "selling_price = int(input())\n",
        "if cost_price < selling_price:\n",
        "  print(\"Profit\")\n",
        "elif cost_price > selling_price:\n",
        "  print(\"Loss\")\n",
        "else:\n",
        "  print(\"Neither\")"
      ],
      "execution_count": 2,
      "outputs": [
        {
          "output_type": "stream",
          "text": [
            "200\n",
            "100\n",
            "Loss\n"
          ],
          "name": "stdout"
        }
      ]
    },
    {
      "cell_type": "code",
      "metadata": {
        "id": "SH5JFuk8phAW",
        "outputId": "242f8915-7073-48d8-b388-ce4d1c8d089e",
        "colab": {
          "base_uri": "https://localhost:8080/"
        }
      },
      "source": [
        "cost_price  = int(input())\n",
        "selling_price = int(input())\n",
        "if cost_price < selling_price:\n",
        "  print(\"Profit\")\n",
        "elif cost_price > selling_price:\n",
        "  print(\"Loss\")\n",
        "else:\n",
        "  print(\"Neither\")"
      ],
      "execution_count": 3,
      "outputs": [
        {
          "output_type": "stream",
          "text": [
            "30\n",
            "30\n",
            "Neither\n"
          ],
          "name": "stdout"
        }
      ]
    },
    {
      "cell_type": "markdown",
      "metadata": {
        "id": "vgd7PKXSprmi"
      },
      "source": [
        "\n",
        "Questions 4:\n",
        "\n",
        "Write a program that takes an amount in Euros as input. You need to find its equivalent in Rupees and display it.\n",
        "\n",
        "Assume 1 Euro equals Rs. 80.\n",
        "\n",
        "Please note that you are expected to stick to the given input and output format as in sample test cases.\n",
        "\n",
        "Please don't add any extra lines such as 'Enter a number', etc. Your program should take only one number as input and display the output."
      ]
    },
    {
      "cell_type": "code",
      "metadata": {
        "id": "AOqD2R2hptRO",
        "outputId": "735bb2e5-69db-4f64-bffc-04001958d3e1",
        "colab": {
          "base_uri": "https://localhost:8080/"
        }
      },
      "source": [
        "euro = int(input())\n",
        "rupees = euro * 80\n",
        "print(rupees)"
      ],
      "execution_count": 4,
      "outputs": [
        {
          "output_type": "stream",
          "text": [
            "6\n",
            "480\n"
          ],
          "name": "stdout"
        }
      ]
    },
    {
      "cell_type": "code",
      "metadata": {
        "id": "_OYB1l-Np04b",
        "outputId": "ec95488f-0866-40c5-93f0-94019338eacf",
        "colab": {
          "base_uri": "https://localhost:8080/"
        }
      },
      "source": [
        "euro = int(input())\n",
        "rupees = euro * 80\n",
        "print(rupees)"
      ],
      "execution_count": 5,
      "outputs": [
        {
          "output_type": "stream",
          "text": [
            "40\n",
            "3200\n"
          ],
          "name": "stdout"
        }
      ]
    }
  ]
}